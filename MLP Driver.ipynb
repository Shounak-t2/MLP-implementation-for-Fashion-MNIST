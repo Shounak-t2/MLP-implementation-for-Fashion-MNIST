{
 "cells": [
  {
   "cell_type": "markdown",
   "metadata": {},
   "source": [
    "# Multilayer Pertron\n",
    "\n"
   ]
  },
  {
   "cell_type": "code",
   "execution_count": null,
   "metadata": {},
   "outputs": [],
   "source": [
    "import numpy as np\n",
    "import pandas as pd\n",
    "from matplotlib import pyplot as plt\n",
    "import math\n",
    "from scipy.linalg import logm, expm\n",
    "import mlp\n",
    "import joblib"
   ]
  },
  {
   "cell_type": "markdown",
   "metadata": {},
   "source": [
    "# Loading Dataset\n",
    "\n",
    "Here we are using [Fashion-MNIST](https://www.kaggle.com/datasets/zalando-research/fashionmnist?resource=download) dataset. We split the traing dataset into 2 parts.  50K samples out of 60K is used for training and rest 10K is used fort validation."
   ]
  },
  {
   "cell_type": "code",
   "execution_count": null,
   "metadata": {},
   "outputs": [],
   "source": [
    "data=pd.read_csv('fashion-mnist_train.csv')"
   ]
  },
  {
   "cell_type": "code",
   "execution_count": null,
   "metadata": {},
   "outputs": [],
   "source": [
    "data=np.array(data)\n",
    "m, n =data.shape\n",
    "np.random.shuffle(data)\n",
    "\n",
    "data_test=data[0:10000].T\n",
    "Y_test=data_test[0]\n",
    "X_test=data_test[1:n]\n",
    "X_test=X_test/255.\n",
    "\n",
    "\n",
    "data_train=data[10000:m].T\n",
    "Y_train=data_train[0]\n",
    "X_train=data_train[1:n]\n",
    "X_train=X_train/255."
   ]
  },
  {
   "cell_type": "markdown",
   "metadata": {},
   "source": [
    "## Parameters of MLP\n",
    "\n",
    "`# of Layers` : 4 (2 hidden)\n",
    "\n",
    "`Layer Structure` : [784,25,10,10]\n",
    "\n",
    "`Activation Function` : Sigmoid\n",
    "\n",
    "`Weight Initialization` : Normal Weights\n",
    "\n",
    "`Learning Rate` : 0.2"
   ]
  },
  {
   "cell_type": "code",
   "execution_count": null,
   "metadata": {},
   "outputs": [],
   "source": [
    "# Creating Object\n",
    "\n",
    "testing = mlp.MLP(layers = [784, 25, 10, 10], \n",
    "                        act_funct   = 'sigmoid',\n",
    "                        weight = 'normal',\n",
    "                        learning_rate = 0.2)\n",
    "print(testing)"
   ]
  },
  {
   "cell_type": "code",
   "execution_count": null,
   "metadata": {},
   "outputs": [],
   "source": [
    "# We are running 1001 epocs \n",
    "iterations = 1001\n",
    "\n",
    "loss = np.zeros([iterations,1])\n",
    "accuracy = np.zeros([iterations,1])\n",
    "val_accuracy= np.zeros([iterations,1])\n",
    "val_loss = np.zeros([iterations,1])\n",
    "\n",
    "A = [None] * testing.n_layers\n",
    "Z = [None] * testing.n_layers\n",
    "\n",
    "for ix in range(iterations):\n",
    "    # Training\n",
    "    testing.train(X_train, Y_train)\n",
    "    accuracy[ix]=testing.accuracy(testing.predict(), Y_train)\n",
    "    loss[ix]=testing.loss(Y_train)\n",
    "    # Validation\n",
    "    A,Z = testing.forward(X_test)\n",
    "    val_A3=np.argmax(A[3], axis=0)\n",
    "    val_accuracy[ix]=testing.accuracy(val_A3, Y_test)\n",
    "    ExpY_tst=mlp.expand(Y_test)\n",
    "    val_loss[ix]=0.5*np.square(A[3]-ExpY_tst).mean()\n",
    "    if ix%20 ==0:\n",
    "        print(ix, accuracy[ix], val_accuracy[ix])"
   ]
  },
  {
   "cell_type": "code",
   "execution_count": null,
   "metadata": {},
   "outputs": [],
   "source": [
    "#Saving the model\n",
    "saved_model='ckpSigNorm.pkl'\n",
    "joblib.dump(testing, saved_model)"
   ]
  },
  {
   "cell_type": "markdown",
   "metadata": {},
   "source": [
    "## Plots"
   ]
  },
  {
   "cell_type": "code",
   "execution_count": null,
   "metadata": {},
   "outputs": [],
   "source": [
    "# Training Accuracy and Loss\n",
    "plt.rcParams[\"figure.figsize\"] = (10,7)\n",
    "plt.plot(accuracy, label=\"Accuracy\")\n",
    "plt.plot(loss, label= \"Loss\")\n",
    "plt.xlabel('Iterations')\n",
    "plt.legend()\n",
    "plt.title('Training Result')\n",
    "plt.show()"
   ]
  },
  {
   "cell_type": "code",
   "execution_count": null,
   "metadata": {},
   "outputs": [],
   "source": [
    "# Validation Accuracy and Loss\n",
    "plt.plot(val_accuracy, label=\"Accuracy\")\n",
    "plt.plot(val_loss, label=\"Loss\")\n",
    "plt.xlabel('Iterations')\n",
    "plt.legend()\n",
    "plt.title('Validation Result')\n",
    "plt.show()"
   ]
  },
  {
   "cell_type": "code",
   "execution_count": null,
   "metadata": {},
   "outputs": [],
   "source": [
    "check=pd.read_csv('fashion-mnist_test.csv')\n",
    "\n",
    "check=np.array(check)\n",
    "m1, n1 =check.shape\n",
    "\n",
    "check=check.T\n",
    "Y_check=check[0]\n",
    "X_check=check[1:n]\n",
    "X_check=X_check/255."
   ]
  },
  {
   "cell_type": "code",
   "execution_count": null,
   "metadata": {},
   "outputs": [],
   "source": [
    "model_name='ckpSigZero.pkl'\n",
    "model=joblib.load(model_name)\n",
    "A_chk = [None] * model.n_layers\n",
    "\n",
    "A_chk,_ = model.forward(X_check)\n",
    "chk_A3=np.argmax(A_chk[3], axis=0)\n",
    "chk_accuracy=model.accuracy(chk_A3, Y_check)\n",
    "print(chk_accuracy)"
   ]
  }
 ],
 "metadata": {
  "kernelspec": {
   "display_name": "Python 3 (ipykernel)",
   "language": "python",
   "name": "python3"
  },
  "language_info": {
   "codemirror_mode": {
    "name": "ipython",
    "version": 3
   },
   "file_extension": ".py",
   "mimetype": "text/x-python",
   "name": "python",
   "nbconvert_exporter": "python",
   "pygments_lexer": "ipython3",
   "version": "3.9.12"
  },
  "vscode": {
   "interpreter": {
    "hash": "6dc11a3ab7a748b04473fa184235321a2ce956dec7f766a916b3397c6d895d0a"
   }
  }
 },
 "nbformat": 4,
 "nbformat_minor": 2
}
